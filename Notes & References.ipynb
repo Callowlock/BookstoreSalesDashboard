{
 "cells": [
  {
   "cell_type": "markdown",
   "metadata": {
    "application/vnd.databricks.v1+cell": {
     "cellMetadata": {},
     "inputWidgets": {},
     "nuid": "8d695fbe-d9d4-4d64-9b1e-a486494e0c7d",
     "showTitle": false,
     "tableResultSettingsMap": {},
     "title": ""
    }
   },
   "source": [
    "# Overview\n",
    "The goal of this project is to build a dashboard to display book sales data that automatically updates with new transactions and build a machine learning model that will use sentiment analysis to classify a review from 1 - 5 rating. I do not have access to streaming sales data and will simulate it by transforming a dataset."
   ]
  },
  {
   "cell_type": "markdown",
   "metadata": {
    "application/vnd.databricks.v1+cell": {
     "cellMetadata": {},
     "inputWidgets": {},
     "nuid": "03ac0cb3-f19d-4178-9fe7-092eaec293ea",
     "showTitle": false,
     "tableResultSettingsMap": {},
     "title": ""
    }
   },
   "source": [
    "# Cleaning and Preparation"
   ]
  },
  {
   "cell_type": "markdown",
   "metadata": {
    "application/vnd.databricks.v1+cell": {
     "cellMetadata": {},
     "inputWidgets": {},
     "nuid": "a7a8fa39-c488-4571-a350-12e06509dccf",
     "showTitle": false,
     "tableResultSettingsMap": {},
     "title": ""
    }
   },
   "source": [
    "### Datasets\n",
    "\n",
    "**ratings columns:**\n",
    "- Id:string (Id appears to be the book Id)\n",
    "- Title:string\n",
    "- Price:string\n",
    "- User_id:string\n",
    "- profileName:string\n",
    "- review/helpfulness:string\n",
    "- review/score:string\n",
    "- review/time:string\n",
    "- review/summary:string\n",
    "- review/text:string\n",
    "\n",
    "\n",
    "**books columns:**\n",
    "- Title:string\n",
    "- description:string\n",
    "- authors:string\n",
    "- image:string\n",
    "- previewLink:string\n",
    "- publisher:string\n",
    "- publishedDate:string\n",
    "- infoLink:string\n",
    "- categories:string\n",
    "- ratingsCount:string"
   ]
  },
  {
   "cell_type": "markdown",
   "metadata": {
    "application/vnd.databricks.v1+cell": {
     "cellMetadata": {},
     "inputWidgets": {},
     "nuid": "9902095c-087f-4180-8d3a-75221c8922be",
     "showTitle": false,
     "tableResultSettingsMap": {},
     "title": ""
    }
   },
   "source": []
  },
  {
   "cell_type": "markdown",
   "metadata": {
    "application/vnd.databricks.v1+cell": {
     "cellMetadata": {},
     "inputWidgets": {},
     "nuid": "ce82a348-5482-4647-b232-cb1e06e39e91",
     "showTitle": false,
     "tableResultSettingsMap": {},
     "title": ""
    }
   },
   "source": [
    "#### ratings plan\n",
    "- Remove Title, review/helpfulness, and Price columns\n",
    "- Sort the data sequentially by review time\n",
    "- Adjust the date range as necessary\n",
    "- The first chunk of data to build the initial dashboard and train the model.\n",
    "- For the ML model: y = review/score, X = review/summary, review/text"
   ]
  },
  {
   "cell_type": "markdown",
   "metadata": {
    "application/vnd.databricks.v1+cell": {
     "cellMetadata": {},
     "inputWidgets": {},
     "nuid": "7706e4f9-9f3b-4d51-be5b-fa303ba5be10",
     "showTitle": false,
     "tableResultSettingsMap": {},
     "title": ""
    }
   },
   "source": [
    "#### books plan\n",
    "- Remove image, previewLink, infoLink cuz idc about these columns\n",
    "- Clear ratingsCount and populate with number of ratings as data is streaming in\n",
    "- Append ratings.Id to respective titles\n",
    "- Extract or aggregrate ratings.Price per Id and append to books by Id\n",
    "- This will act as a database of books and will be referenced to build dashboard"
   ]
  },
  {
   "cell_type": "markdown",
   "metadata": {
    "application/vnd.databricks.v1+cell": {
     "cellMetadata": {},
     "inputWidgets": {},
     "nuid": "b1291508-465e-41e9-9c44-ee8725f328a8",
     "showTitle": false,
     "tableResultSettingsMap": {},
     "title": ""
    }
   },
   "source": [
    "# References\n",
    "\n",
    "Books_ratings.csv and book_data.csv were retrieved from the Big Sales Data dataset, found here https://www.kaggle.com/datasets/pigment/big-sales-data."
   ]
  },
  {
   "cell_type": "code",
   "execution_count": 0,
   "metadata": {
    "application/vnd.databricks.v1+cell": {
     "cellMetadata": {},
     "inputWidgets": {},
     "nuid": "ceba267b-f62d-4963-be68-bd6e7462cd59",
     "showTitle": false,
     "tableResultSettingsMap": {},
     "title": ""
    }
   },
   "outputs": [],
   "source": []
  }
 ],
 "metadata": {
  "application/vnd.databricks.v1+notebook": {
   "computePreferences": null,
   "dashboards": [],
   "environmentMetadata": {
    "base_environment": "",
    "environment_version": "2"
   },
   "inputWidgetPreferences": null,
   "language": "python",
   "notebookMetadata": {
    "pythonIndentUnit": 4
   },
   "notebookName": "Notes & References",
   "widgets": {}
  },
  "language_info": {
   "name": "python"
  }
 },
 "nbformat": 4,
 "nbformat_minor": 0
}
