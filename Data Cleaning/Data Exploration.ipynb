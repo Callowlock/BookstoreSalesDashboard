{
 "cells": [
  {
   "cell_type": "markdown",
   "metadata": {
    "application/vnd.databricks.v1+cell": {
     "cellMetadata": {},
     "inputWidgets": {},
     "nuid": "49a5096d-30e8-4362-9e53-893ed651edcc",
     "showTitle": false,
     "tableResultSettingsMap": {},
     "title": ""
    }
   },
   "source": [
    "# Data Cleaning and preparation to build pipeline."
   ]
  },
  {
   "cell_type": "code",
   "execution_count": 0,
   "metadata": {
    "application/vnd.databricks.v1+cell": {
     "cellMetadata": {
      "byteLimit": 2048000,
      "rowLimit": 10000
     },
     "inputWidgets": {},
     "nuid": "a465af9f-ca2e-4c7f-bd2f-51678565c206",
     "showTitle": false,
     "tableResultSettingsMap": {},
     "title": ""
    }
   },
   "outputs": [],
   "source": [
    "\n",
    "book_data_df = spark.read.csv(\"/Volumes/workspace/default/my_volume/books_data.csv\", header=True, inferSchema=True)\n",
    "book_data_df_cleaned = book_data_df.drop(\"image\", \"infoLink\", \"previewLink\", \"ratingsCount\", \"publisher\", \"publishedDate\")"
   ]
  },
  {
   "cell_type": "code",
   "execution_count": 0,
   "metadata": {
    "application/vnd.databricks.v1+cell": {
     "cellMetadata": {
      "byteLimit": 2048000,
      "rowLimit": 10000
     },
     "inputWidgets": {},
     "nuid": "7fb91b53-c721-4864-9060-95fc174f8c93",
     "showTitle": false,
     "tableResultSettingsMap": {},
     "title": ""
    }
   },
   "outputs": [],
   "source": [
    "book_data_df.write.mode(\"overwrite\").option(\"overwriteSchema\", \"true\").saveAsTable(\"books_raw\")"
   ]
  },
  {
   "cell_type": "code",
   "execution_count": 0,
   "metadata": {
    "application/vnd.databricks.v1+cell": {
     "cellMetadata": {
      "byteLimit": 2048000,
      "implicitDf": true,
      "rowLimit": 10000
     },
     "inputWidgets": {},
     "nuid": "7644b97c-bd78-47b8-8f70-88893c632818",
     "showTitle": false,
     "tableResultSettingsMap": {
      "0": {
       "dataGridStateBlob": "{\"version\":1,\"tableState\":{\"columnPinning\":{\"left\":[\"#row_number#\"],\"right\":[]},\"columnSizing\":{},\"columnVisibility\":{}},\"settings\":{\"columns\":{\"image\":{\"format\":{\"preset\":\"string-preset-url\"}},\"previewLink\":{\"format\":{\"preset\":\"string-preset-url\"}},\"infoLink\":{\"format\":{\"preset\":\"string-preset-url\"}}}},\"syncTimestamp\":1754198367191}",
       "filterBlob": null,
       "queryPlanFiltersBlob": null,
       "tableResultIndex": 0
      }
     },
     "title": ""
    }
   },
   "outputs": [],
   "source": [
    "%sql\n",
    "select * from books_raw;"
   ]
  },
  {
   "cell_type": "code",
   "execution_count": 0,
   "metadata": {
    "application/vnd.databricks.v1+cell": {
     "cellMetadata": {
      "byteLimit": 2048000,
      "rowLimit": 10000
     },
     "inputWidgets": {},
     "nuid": "d63efa85-db51-4eea-933c-e2a6735a4802",
     "showTitle": false,
     "tableResultSettingsMap": {},
     "title": ""
    }
   },
   "outputs": [],
   "source": [
    "ratings_df = spark.read.csv(\"/Volumes/workspace/default/my_volume/Books_rating.csv\", header=True, inferSchema=True)\n",
    "ratings_df.write.mode(\"overwrite\").saveAsTable(\"ratings_raw\")"
   ]
  },
  {
   "cell_type": "code",
   "execution_count": 0,
   "metadata": {
    "application/vnd.databricks.v1+cell": {
     "cellMetadata": {
      "byteLimit": 2048000,
      "implicitDf": true,
      "rowLimit": 10000
     },
     "inputWidgets": {},
     "nuid": "0734e096-65c9-494e-8b16-db1541b2391d",
     "showTitle": false,
     "tableResultSettingsMap": {},
     "title": ""
    }
   },
   "outputs": [],
   "source": [
    "%sql\n",
    "select * from ratings_raw;"
   ]
  },
  {
   "cell_type": "markdown",
   "metadata": {
    "application/vnd.databricks.v1+cell": {
     "cellMetadata": {},
     "inputWidgets": {},
     "nuid": "383134b8-c6f5-4a49-9204-8d37f81b901b",
     "showTitle": false,
     "tableResultSettingsMap": {},
     "title": ""
    }
   },
   "source": [
    "#### There are many malformed rows that need cleaning in each dataset. Quotation marks in the Title or description caused elements to shift. These will need to be isolated and dealt with. There are 3 million instances in the ratings dataset which will be transformed into transactions and there are 212404 instances in the books dataset. "
   ]
  },
  {
   "cell_type": "markdown",
   "metadata": {
    "application/vnd.databricks.v1+cell": {
     "cellMetadata": {},
     "inputWidgets": {},
     "nuid": "892fd78e-2cdc-4957-ab42-5127514cfd96",
     "showTitle": false,
     "tableResultSettingsMap": {},
     "title": ""
    }
   },
   "source": [
    "##### Ideally, we would replace the missing data in the books dataset because the book titles reference actual books. "
   ]
  },
  {
   "cell_type": "code",
   "execution_count": 0,
   "metadata": {
    "application/vnd.databricks.v1+cell": {
     "cellMetadata": {
      "byteLimit": 2048000,
      "rowLimit": 10000
     },
     "inputWidgets": {},
     "nuid": "2f442eee-f160-48a1-a3fd-a63ed2e9bcf0",
     "showTitle": false,
     "tableResultSettingsMap": {},
     "title": ""
    }
   },
   "outputs": [],
   "source": [
    "\n",
    "import requests\n",
    "\n",
    "def get_book_info(title):\n",
    "    url = f\"https://www.googleapis.com/books/v1/volumes?q=intitle:{title}\"\n",
    "    resp = requests.get(url).json()\n",
    "    if \"items\" in resp:\n",
    "        volume_info = resp[\"items\"][0][\"volumeInfo\"]\n",
    "        return volume_info.get(\"title\"), volume_info.get(\"authors\"), volume_info.get(\"categories\")\n",
    "    return None, None, None, None\n",
    "\n",
    "title, authors, categories = get_book_info(\"Batman 423-425 \"\"The Diplomat's Son\"\" Complete Story\")\n",
    "print(\n",
    "f\"\"\"Google Books API\n",
    "    Title: {title},\n",
    "    Authors: {authors},\n",
    "    Categories: {categories}\"\"\")"
   ]
  },
  {
   "cell_type": "code",
   "execution_count": 0,
   "metadata": {
    "application/vnd.databricks.v1+cell": {
     "cellMetadata": {
      "byteLimit": 2048000,
      "rowLimit": 10000
     },
     "inputWidgets": {},
     "nuid": "8e2ff3b3-4c88-4147-9d6d-d8aa6df9b007",
     "showTitle": false,
     "tableResultSettingsMap": {},
     "title": ""
    }
   },
   "outputs": [],
   "source": [
    "from rapidfuzz import fuzz\n",
    "\n",
    "def enrich_book_open_library(partial_title, similarity_threshold=80):\n",
    "    url = f\"https://openlibrary.org/search.json?title={partial_title}\"\n",
    "    headers = {\"User-Agent\": \"BookDataEnricher/1.0 (your_email@example.com)\"}\n",
    "    \n",
    "    try:\n",
    "        response = requests.get(url, headers=headers, timeout=10)\n",
    "        \n",
    "        response.raise_for_status()\n",
    "        data = response.json()\n",
    "        print(data)\n",
    "    except Exception as e:\n",
    "        print(f\"Error fetching data for '{partial_title}': {e}\")\n",
    "        return None, None, None\n",
    "\n",
    "    if \"docs\" not in data or not data[\"docs\"]:\n",
    "        return None, None, None\n",
    "\n",
    "    best_match = None\n",
    "    best_score = 0\n",
    "\n",
    "    for doc in data[\"docs\"]:\n",
    "        full_title = doc.get(\"title\", \"\")\n",
    "        score = fuzz.token_set_ratio(partial_title.lower(), full_title.lower())\n",
    "        \n",
    "        if score > best_score:\n",
    "            best_score = score\n",
    "            best_match = doc\n",
    "\n",
    "    if best_score >= similarity_threshold and best_match:\n",
    "        print(best_match)\n",
    "        authors = best_match.get(\"author_name\", [])\n",
    "        subjects = best_match.get(\"subject\", [])\n",
    "        return best_match.get(\"title\"), authors, subjects\n",
    "    else:\n",
    "        return None, None, None\n",
    "    \n",
    "title, authors, categories = enrich_book_open_library(\"Batman 423-425 \"\"The Diplomat's Son\"\" Complete Story\")\n",
    "print(\n",
    "f\"\"\"Open Library API\n",
    "    Title: {title},\n",
    "    Authors: {authors},\n",
    "    Categories: {categories}\"\"\")"
   ]
  },
  {
   "cell_type": "markdown",
   "metadata": {
    "application/vnd.databricks.v1+cell": {
     "cellMetadata": {},
     "inputWidgets": {},
     "nuid": "dcdf2908-6342-4ff8-8984-2d02185cc991",
     "showTitle": false,
     "tableResultSettingsMap": {},
     "title": ""
    }
   },
   "source": [
    "##### I tried both Google Books API and Open Library API to query book titles. Google Books API (GB) is very good at finding matches based on partial titles. This dataset lumps titles and subtitles together in the same Title field and GB is very good at finding these as well. Open Library is not. The problem is that GB has a daily limit of 1000 requests. Which means this isn't a good option. I will proceed with cleaning the dataset for use."
   ]
  },
  {
   "cell_type": "code",
   "execution_count": 0,
   "metadata": {
    "application/vnd.databricks.v1+cell": {
     "cellMetadata": {
      "byteLimit": 2048000,
      "implicitDf": true,
      "rowLimit": 10000
     },
     "inputWidgets": {},
     "nuid": "059dd01e-649a-4320-84fe-6965c987605f",
     "showTitle": false,
     "tableResultSettingsMap": {},
     "title": ""
    }
   },
   "outputs": [],
   "source": [
    "%sql\n",
    "--- Get rid of null Titles right away in both tables -- \n",
    "create or replace table books_clean as\n",
    "select *\n",
    "from books_raw\n",
    "where Title is not null;"
   ]
  },
  {
   "cell_type": "code",
   "execution_count": 0,
   "metadata": {
    "application/vnd.databricks.v1+cell": {
     "cellMetadata": {
      "byteLimit": 2048000,
      "implicitDf": true,
      "rowLimit": 10000
     },
     "inputWidgets": {},
     "nuid": "b8773a12-4e68-4e79-9ddb-6c3e0f8ef4d0",
     "showTitle": false,
     "tableResultSettingsMap": {},
     "title": ""
    }
   },
   "outputs": [],
   "source": [
    "%sql\n",
    "create or replace table ratings_clean as\n",
    "select *\n",
    "from ratings_raw\n",
    "where Title is not null;"
   ]
  },
  {
   "cell_type": "markdown",
   "metadata": {
    "application/vnd.databricks.v1+cell": {
     "cellMetadata": {},
     "inputWidgets": {},
     "nuid": "3d32c6e9-10e5-4561-b9d9-da652bc85c8a",
     "showTitle": false,
     "tableResultSettingsMap": {},
     "title": ""
    }
   },
   "source": [
    "#### We'll append ratings.Id to books.Id as they appear to be 1 to 1 with each other. "
   ]
  },
  {
   "cell_type": "code",
   "execution_count": 0,
   "metadata": {
    "application/vnd.databricks.v1+cell": {
     "cellMetadata": {
      "byteLimit": 2048000,
      "implicitDf": true,
      "rowLimit": 10000
     },
     "inputWidgets": {},
     "nuid": "f5e9aa48-0fe5-4a9f-b8e5-f7da6e0d31a2",
     "showTitle": false,
     "tableResultSettingsMap": {},
     "title": ""
    }
   },
   "outputs": [],
   "source": [
    "%sql\n",
    "SELECT\n",
    "  COUNT(DISTINCT Id) AS distinct_ids,\n",
    "  COUNT(DISTINCT Title) AS distinct_titles\n",
    "FROM ratings_clean;"
   ]
  },
  {
   "cell_type": "markdown",
   "metadata": {
    "application/vnd.databricks.v1+cell": {
     "cellMetadata": {},
     "inputWidgets": {},
     "nuid": "0c360a74-a5f0-4ea6-9d35-3dd1fce97cea",
     "showTitle": false,
     "tableResultSettingsMap": {},
     "title": ""
    }
   },
   "source": [
    "#### I guess not :("
   ]
  },
  {
   "cell_type": "code",
   "execution_count": 0,
   "metadata": {
    "application/vnd.databricks.v1+cell": {
     "cellMetadata": {
      "byteLimit": 2048000,
      "implicitDf": true,
      "rowLimit": 10000
     },
     "inputWidgets": {},
     "nuid": "c2a8ed14-dddc-4509-a51e-40847a359264",
     "showTitle": false,
     "tableResultSettingsMap": {
      "0": {
       "dataGridStateBlob": "{\"version\":1,\"tableState\":{\"columnPinning\":{\"left\":[\"#row_number#\"],\"right\":[]},\"columnSizing\":{},\"columnVisibility\":{}},\"settings\":{\"columns\":{}},\"syncTimestamp\":1754201016493}",
       "filterBlob": null,
       "queryPlanFiltersBlob": null,
       "tableResultIndex": 0
      }
     },
     "title": ""
    }
   },
   "outputs": [],
   "source": [
    "%sql\n",
    "select Id, Title, count(Id) as id_count\n",
    "from ratings_clean\n",
    "group by Title, Id\n",
    "sort by Title;"
   ]
  },
  {
   "cell_type": "code",
   "execution_count": 0,
   "metadata": {
    "application/vnd.databricks.v1+cell": {
     "cellMetadata": {
      "byteLimit": 2048000,
      "implicitDf": true,
      "rowLimit": 10000
     },
     "inputWidgets": {},
     "nuid": "c8fd35d8-6006-4f97-be14-7885ea2eabfe",
     "showTitle": false,
     "tableResultSettingsMap": {
      "0": {
       "dataGridStateBlob": "{\"version\":1,\"tableState\":{\"columnPinning\":{\"left\":[\"#row_number#\"],\"right\":[]},\"columnSizing\":{\"Title\":726,\"Id\":158},\"columnVisibility\":{}},\"settings\":{\"columns\":{}},\"syncTimestamp\":1754199991065}",
       "filterBlob": null,
       "queryPlanFiltersBlob": null,
       "tableResultIndex": 0
      }
     },
     "title": ""
    }
   },
   "outputs": [],
   "source": [
    "%sql\n",
    "--- Titles with multiple Ids ---\n",
    "SELECT distinct Title, Id, count(Id) as id_count\n",
    "FROM ratings_clean\n",
    "WHERE Title IN (\n",
    "  SELECT Title\n",
    "  FROM ratings_clean\n",
    "  GROUP BY Title\n",
    "  HAVING COUNT(DISTINCT Id) > 1\n",
    ")\n",
    "group by Title, Id\n",
    "sort BY Title;\n"
   ]
  },
  {
   "cell_type": "code",
   "execution_count": 0,
   "metadata": {
    "application/vnd.databricks.v1+cell": {
     "cellMetadata": {
      "byteLimit": 2048000,
      "implicitDf": true,
      "rowLimit": 10000
     },
     "inputWidgets": {},
     "nuid": "e22960be-129e-440a-a4dc-801ad8c74510",
     "showTitle": false,
     "tableResultSettingsMap": {},
     "title": ""
    }
   },
   "outputs": [],
   "source": [
    "%sql\n",
    "select Id,Title\n",
    "from ratings_clean\n",
    "where Title = '\"The descendants of Capt. Thomas Carter of \"\"Barford\"\"';"
   ]
  },
  {
   "cell_type": "code",
   "execution_count": 0,
   "metadata": {
    "application/vnd.databricks.v1+cell": {
     "cellMetadata": {
      "byteLimit": 2048000,
      "implicitDf": true,
      "rowLimit": 10000
     },
     "inputWidgets": {},
     "nuid": "875dde03-f842-4040-baa9-2ff7ef135820",
     "showTitle": false,
     "tableResultSettingsMap": {},
     "title": ""
    }
   },
   "outputs": [],
   "source": [
    "%sql\n",
    "---Ids with multiple Titles ---\n",
    "SELECT distinct Id, Title\n",
    "from ratings_clean\n",
    "where Id in (\n",
    "  select Id\n",
    "  from ratings_clean\n",
    "  group by Id\n",
    "  HAVING count(distinct Title) > 1 \n",
    ")\n",
    "group by Id, Title\n",
    "sort by Id;\n"
   ]
  },
  {
   "cell_type": "markdown",
   "metadata": {
    "application/vnd.databricks.v1+cell": {
     "cellMetadata": {},
     "inputWidgets": {},
     "nuid": "3a694f7a-ee35-4228-8776-b66dcfdbfad7",
     "showTitle": false,
     "tableResultSettingsMap": {},
     "title": ""
    }
   },
   "source": [
    "# HERE"
   ]
  },
  {
   "cell_type": "markdown",
   "metadata": {
    "application/vnd.databricks.v1+cell": {
     "cellMetadata": {},
     "inputWidgets": {},
     "nuid": "62aa3e5d-0665-4925-b46a-09aaa8ddf8f4",
     "showTitle": false,
     "tableResultSettingsMap": {},
     "title": ""
    }
   },
   "source": [
    "#### It looks like in all cases Titles have multiple Ids whereas Ids only are associated with a single Title. Which is great! There does not appear to be any rhyme or reason to the Ids. I'll just replace all Ids for a Title with the one of the Ids associated with it. Doesn't really matter which one."
   ]
  },
  {
   "cell_type": "markdown",
   "metadata": {
    "application/vnd.databricks.v1+cell": {
     "cellMetadata": {
      "byteLimit": 2048000,
      "rowLimit": 10000
     },
     "inputWidgets": {},
     "nuid": "e0fa6c3a-4f90-4e4d-8a61-68abcaff961c",
     "showTitle": false,
     "tableResultSettingsMap": {},
     "title": ""
    }
   },
   "source": [
    "#### I'll work on the Price column next. This I will drop from ratings and add it to the books table."
   ]
  },
  {
   "cell_type": "code",
   "execution_count": 0,
   "metadata": {
    "application/vnd.databricks.v1+cell": {
     "cellMetadata": {
      "byteLimit": 2048000,
      "implicitDf": true,
      "rowLimit": 10000
     },
     "inputWidgets": {},
     "nuid": "3d3ce44f-bfb9-486e-bba2-697bb78138be",
     "showTitle": false,
     "tableResultSettingsMap": {},
     "title": ""
    }
   },
   "outputs": [],
   "source": [
    "%sql\n",
    "--- Verify each Id only has a single Price associated with it ---\n",
    "select Id, COUNT(DISTINCT Price) as price_count\n",
    "from ratings_clean\n",
    "group by Id\n",
    "having count(distinct price) > 1"
   ]
  },
  {
   "cell_type": "code",
   "execution_count": 0,
   "metadata": {
    "application/vnd.databricks.v1+cell": {
     "cellMetadata": {
      "byteLimit": 2048000,
      "implicitDf": true,
      "rowLimit": 10000
     },
     "inputWidgets": {},
     "nuid": "9a7699bf-7aec-4db4-ba2b-2c8abb188a33",
     "showTitle": false,
     "tableResultSettingsMap": {
      "0": {
       "dataGridStateBlob": "{\"version\":1,\"tableState\":{\"columnPinning\":{\"left\":[\"#row_number#\"],\"right\":[]},\"columnSizing\":{\"Id\":185},\"columnVisibility\":{}},\"settings\":{\"columns\":{}},\"syncTimestamp\":1754197281711}",
       "filterBlob": null,
       "queryPlanFiltersBlob": null,
       "tableResultIndex": 0
      }
     },
     "title": ""
    }
   },
   "outputs": [],
   "source": [
    "%sql\n",
    "--- Viewing Ids with multiple prices ---\n",
    "create or replace temp view ids_multiple_prices as\n",
    "select r.Id, Price\n",
    "from ratings_clean as r\n",
    "join (select Id, COUNT(DISTINCT Price) as price_count\n",
    "    from ratings_clean\n",
    "    group by Id\n",
    "    having count(distinct price) > 1  \n",
    ") as r2 on r.Id = r2.Id;\n",
    "\n",
    "select * from ids_multiple_prices"
   ]
  },
  {
   "cell_type": "markdown",
   "metadata": {
    "application/vnd.databricks.v1+cell": {
     "cellMetadata": {},
     "inputWidgets": {},
     "nuid": "6f9450f6-58ea-4a01-8163-29492bf69ecf",
     "showTitle": false,
     "tableResultSettingsMap": {},
     "title": ""
    }
   },
   "source": [
    "##### Find rows in books_ cleaned with \" or ' in their titles."
   ]
  },
  {
   "cell_type": "code",
   "execution_count": 0,
   "metadata": {
    "application/vnd.databricks.v1+cell": {
     "cellMetadata": {
      "byteLimit": 2048000,
      "implicitDf": true,
      "rowLimit": 10000
     },
     "inputWidgets": {},
     "nuid": "da318c93-0633-4ae1-999b-43cd6dff85db",
     "showTitle": false,
     "tableResultSettingsMap": {},
     "title": ""
    }
   },
   "outputs": [],
   "source": [
    "%sql\n",
    "-- temp view with Ids of malformed rows to make it easier to drop --\n",
    "create or replace temp view bad_rows as\n",
    "SELECT Id\n",
    "FROM books_clean\n",
    "WHERE (authors not rlike '.*\\\\[.*\\\\].*' )\n",
    "   or (categories not rlike '.*\\\\[.*\\\\].*');\n",
    "\n"
   ]
  },
  {
   "cell_type": "code",
   "execution_count": 0,
   "metadata": {
    "application/vnd.databricks.v1+cell": {
     "cellMetadata": {
      "byteLimit": 2048000,
      "implicitDf": true,
      "rowLimit": 10000
     },
     "inputWidgets": {},
     "nuid": "eecb0296-d9aa-4321-a3d1-3f03485af993",
     "showTitle": false,
     "tableResultSettingsMap": {
      "0": {
       "dataGridStateBlob": "{\"version\":1,\"tableState\":{\"columnPinning\":{\"left\":[\"#row_number#\"],\"right\":[]},\"columnSizing\":{},\"columnVisibility\":{}},\"settings\":{\"columns\":{}},\"syncTimestamp\":1753668746181}",
       "filterBlob": null,
       "queryPlanFiltersBlob": null,
       "tableResultIndex": 0
      }
     },
     "title": ""
    }
   },
   "outputs": [],
   "source": []
  },
  {
   "cell_type": "markdown",
   "metadata": {
    "application/vnd.databricks.v1+cell": {
     "cellMetadata": {},
     "inputWidgets": {},
     "nuid": "8ff3b173-721d-45ac-9875-79123732c840",
     "showTitle": false,
     "tableResultSettingsMap": {},
     "title": ""
    }
   },
   "source": [
    "# Preparing the cleaned datasets for the dashboard."
   ]
  },
  {
   "cell_type": "markdown",
   "metadata": {
    "application/vnd.databricks.v1+cell": {
     "cellMetadata": {},
     "inputWidgets": {},
     "nuid": "d27f574f-89ea-4da9-bb4b-1f9abfbeb01a",
     "showTitle": false,
     "tableResultSettingsMap": {},
     "title": ""
    }
   },
   "source": [
    "We'll check the distribution of the the number of ratings per book of the cleaned dataset."
   ]
  },
  {
   "cell_type": "code",
   "execution_count": 0,
   "metadata": {
    "application/vnd.databricks.v1+cell": {
     "cellMetadata": {},
     "inputWidgets": {},
     "nuid": "3d6105cb-47f0-4372-8159-abe647ba0d4f",
     "showTitle": false,
     "tableResultSettingsMap": {},
     "title": ""
    }
   },
   "outputs": [],
   "source": []
  }
 ],
 "metadata": {
  "application/vnd.databricks.v1+notebook": {
   "computePreferences": null,
   "dashboards": [],
   "environmentMetadata": {
    "base_environment": "",
    "environment_version": "2"
   },
   "inputWidgetPreferences": null,
   "language": "python",
   "notebookMetadata": {
    "mostRecentlyExecutedCommandWithImplicitDF": {
     "commandId": 5273025582057776,
     "dataframes": [
      "_sqldf"
     ]
    },
    "pythonIndentUnit": 4
   },
   "notebookName": "Data Exploration",
   "widgets": {}
  },
  "language_info": {
   "name": "python"
  }
 },
 "nbformat": 4,
 "nbformat_minor": 0
}
