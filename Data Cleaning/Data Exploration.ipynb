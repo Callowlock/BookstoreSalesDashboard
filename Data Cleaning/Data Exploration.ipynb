{
 "cells": [
  {
   "cell_type": "code",
   "execution_count": 0,
   "metadata": {
    "application/vnd.databricks.v1+cell": {
     "cellMetadata": {
      "byteLimit": 2048000,
      "rowLimit": 10000
     },
     "inputWidgets": {},
     "nuid": "ce34b578-598a-4c28-8d8b-8a5cacfa7ad2",
     "showTitle": false,
     "tableResultSettingsMap": {},
     "title": ""
    }
   },
   "outputs": [],
   "source": [
    "from pyspark.sql import functions as F"
   ]
  },
  {
   "cell_type": "markdown",
   "metadata": {
    "application/vnd.databricks.v1+cell": {
     "cellMetadata": {},
     "inputWidgets": {},
     "nuid": "49a5096d-30e8-4362-9e53-893ed651edcc",
     "showTitle": false,
     "tableResultSettingsMap": {},
     "title": ""
    }
   },
   "source": [
    "# Data Cleaning and preparation to build pipeline."
   ]
  },
  {
   "cell_type": "code",
   "execution_count": 0,
   "metadata": {
    "application/vnd.databricks.v1+cell": {
     "cellMetadata": {
      "byteLimit": 2048000,
      "rowLimit": 10000
     },
     "inputWidgets": {},
     "nuid": "a465af9f-ca2e-4c7f-bd2f-51678565c206",
     "showTitle": false,
     "tableResultSettingsMap": {},
     "title": ""
    }
   },
   "outputs": [],
   "source": [
    "\n",
    "book_data_df = spark.read.csv(\"/Volumes/workspace/default/my_volume/books_data.csv\", header=True, inferSchema=True)\n",
    "book_data_df.write.mode(\"overwrite\").option(\"overwriteSchema\", \"true\").saveAsTable(\"books_raw\")\n"
   ]
  },
  {
   "cell_type": "code",
   "execution_count": 0,
   "metadata": {
    "application/vnd.databricks.v1+cell": {
     "cellMetadata": {
      "byteLimit": 2048000,
      "implicitDf": true,
      "rowLimit": 10000
     },
     "inputWidgets": {},
     "nuid": "c9cf3a4e-7279-4f4a-8461-106ae547046c",
     "showTitle": false,
     "tableResultSettingsMap": {},
     "title": ""
    }
   },
   "outputs": [],
   "source": [
    "%sql\n",
    "select * from books_raw limit 10"
   ]
  },
  {
   "cell_type": "code",
   "execution_count": 0,
   "metadata": {
    "application/vnd.databricks.v1+cell": {
     "cellMetadata": {
      "byteLimit": 2048000,
      "rowLimit": 10000
     },
     "inputWidgets": {},
     "nuid": "7fb91b53-c721-4864-9060-95fc174f8c93",
     "showTitle": false,
     "tableResultSettingsMap": {},
     "title": ""
    }
   },
   "outputs": [],
   "source": [
    "book_data_df_cleaned = book_data_df.drop(\"image\", \"infoLink\", \"previewLink\", \"ratingsCount\", \"publisher\", \"publishedDate\")\n",
    "book_data_df_cleaned.write.mode(\"overwrite\").option(\"overwriteSchema\", \"true\").saveAsTable(\"books_clean\")"
   ]
  },
  {
   "cell_type": "code",
   "execution_count": 0,
   "metadata": {
    "application/vnd.databricks.v1+cell": {
     "cellMetadata": {
      "byteLimit": 2048000,
      "implicitDf": true,
      "rowLimit": 10000
     },
     "inputWidgets": {},
     "nuid": "c7694d5f-fa86-47b3-b5d8-15866d7f7c46",
     "showTitle": false,
     "tableResultSettingsMap": {},
     "title": ""
    }
   },
   "outputs": [],
   "source": [
    "%sql\n",
    "select * from books_clean limit 10"
   ]
  },
  {
   "cell_type": "code",
   "execution_count": 0,
   "metadata": {
    "application/vnd.databricks.v1+cell": {
     "cellMetadata": {
      "byteLimit": 2048000,
      "rowLimit": 10000
     },
     "inputWidgets": {},
     "nuid": "d63efa85-db51-4eea-933c-e2a6735a4802",
     "showTitle": false,
     "tableResultSettingsMap": {},
     "title": ""
    }
   },
   "outputs": [],
   "source": [
    "ratings_df = spark.read.csv(\"/Volumes/workspace/default/my_volume/Books_rating.csv\", header=True, inferSchema=True)\n",
    "ratings_df.write.mode(\"overwrite\").saveAsTable(\"ratings_raw\")"
   ]
  },
  {
   "cell_type": "code",
   "execution_count": 0,
   "metadata": {
    "application/vnd.databricks.v1+cell": {
     "cellMetadata": {
      "byteLimit": 2048000,
      "implicitDf": true,
      "rowLimit": 10000
     },
     "inputWidgets": {},
     "nuid": "0734e096-65c9-494e-8b16-db1541b2391d",
     "showTitle": false,
     "tableResultSettingsMap": {},
     "title": ""
    }
   },
   "outputs": [],
   "source": [
    "%sql\n",
    "select * from ratings_raw;"
   ]
  },
  {
   "cell_type": "markdown",
   "metadata": {
    "application/vnd.databricks.v1+cell": {
     "cellMetadata": {},
     "inputWidgets": {},
     "nuid": "383134b8-c6f5-4a49-9204-8d37f81b901b",
     "showTitle": false,
     "tableResultSettingsMap": {},
     "title": ""
    }
   },
   "source": [
    "#### There are many malformed rows that need cleaning in each dataset. Quotation marks in the Title or description caused elements to shift. These will need to be isolated and dealt with. There are 3 million instances in the ratings dataset which will be transformed into transactions and there are 212404 instances in the books dataset. "
   ]
  },
  {
   "cell_type": "markdown",
   "metadata": {
    "application/vnd.databricks.v1+cell": {
     "cellMetadata": {},
     "inputWidgets": {},
     "nuid": "892fd78e-2cdc-4957-ab42-5127514cfd96",
     "showTitle": false,
     "tableResultSettingsMap": {},
     "title": ""
    }
   },
   "source": [
    "##### Ideally, we would replace the missing data in the books dataset because the book titles reference actual books. "
   ]
  },
  {
   "cell_type": "code",
   "execution_count": 0,
   "metadata": {
    "application/vnd.databricks.v1+cell": {
     "cellMetadata": {
      "byteLimit": 2048000,
      "rowLimit": 10000
     },
     "collapsed": true,
     "inputWidgets": {},
     "nuid": "2f442eee-f160-48a1-a3fd-a63ed2e9bcf0",
     "showTitle": false,
     "tableResultSettingsMap": {},
     "title": ""
    }
   },
   "outputs": [],
   "source": [
    "\n",
    "import requests\n",
    "\n",
    "def get_book_info(title):\n",
    "    url = f\"https://www.googleapis.com/books/v1/volumes?q=intitle:{title}\"\n",
    "    resp = requests.get(url).json()\n",
    "    if \"items\" in resp:\n",
    "        volume_info = resp[\"items\"][0][\"volumeInfo\"]\n",
    "        return volume_info.get(\"title\"), volume_info.get(\"authors\"), volume_info.get(\"categories\")\n",
    "    return None, None, None, None\n",
    "\n",
    "title, authors, categories = get_book_info(\"Batman 423-425 \"\"The Diplomat's Son\"\" Complete Story\")\n",
    "print(\n",
    "f\"\"\"Google Books API\n",
    "    Title: {title},\n",
    "    Authors: {authors},\n",
    "    Categories: {categories}\"\"\")"
   ]
  },
  {
   "cell_type": "code",
   "execution_count": 0,
   "metadata": {
    "application/vnd.databricks.v1+cell": {
     "cellMetadata": {
      "byteLimit": 2048000,
      "rowLimit": 10000
     },
     "collapsed": true,
     "inputWidgets": {},
     "nuid": "8e2ff3b3-4c88-4147-9d6d-d8aa6df9b007",
     "showTitle": false,
     "tableResultSettingsMap": {},
     "title": ""
    }
   },
   "outputs": [],
   "source": [
    "from rapidfuzz import fuzz\n",
    "\n",
    "def enrich_book_open_library(partial_title, similarity_threshold=80):\n",
    "    url = f\"https://openlibrary.org/search.json?title={partial_title}\"\n",
    "    headers = {\"User-Agent\": \"BookDataEnricher/1.0 (your_email@example.com)\"}\n",
    "    \n",
    "    try:\n",
    "        response = requests.get(url, headers=headers, timeout=10)\n",
    "        \n",
    "        response.raise_for_status()\n",
    "        data = response.json()\n",
    "        print(data)\n",
    "    except Exception as e:\n",
    "        print(f\"Error fetching data for '{partial_title}': {e}\")\n",
    "        return None, None, None\n",
    "\n",
    "    if \"docs\" not in data or not data[\"docs\"]:\n",
    "        return None, None, None\n",
    "\n",
    "    best_match = None\n",
    "    best_score = 0\n",
    "\n",
    "    for doc in data[\"docs\"]:\n",
    "        full_title = doc.get(\"title\", \"\")\n",
    "        score = fuzz.token_set_ratio(partial_title.lower(), full_title.lower())\n",
    "        \n",
    "        if score > best_score:\n",
    "            best_score = score\n",
    "            best_match = doc\n",
    "\n",
    "    if best_score >= similarity_threshold and best_match:\n",
    "        print(best_match)\n",
    "        authors = best_match.get(\"author_name\", [])\n",
    "        subjects = best_match.get(\"subject\", [])\n",
    "        return best_match.get(\"title\"), authors, subjects\n",
    "    else:\n",
    "        return None, None, None\n",
    "    \n",
    "title, authors, categories = enrich_book_open_library(\"Batman 423-425 \"\"The Diplomat's Son\"\" Complete Story\")\n",
    "print(\n",
    "f\"\"\"Open Library API\n",
    "    Title: {title},\n",
    "    Authors: {authors},\n",
    "    Categories: {categories}\"\"\")"
   ]
  },
  {
   "cell_type": "markdown",
   "metadata": {
    "application/vnd.databricks.v1+cell": {
     "cellMetadata": {},
     "inputWidgets": {},
     "nuid": "dcdf2908-6342-4ff8-8984-2d02185cc991",
     "showTitle": false,
     "tableResultSettingsMap": {},
     "title": ""
    }
   },
   "source": [
    "##### I tried both Google Books API and Open Library API to query book titles. Google Books API (GB) is very good at finding matches based on partial titles. This dataset lumps titles and subtitles together in the same Title field and GB is very good at finding these as well. Open Library is not. The problem is that GB has a daily limit of 1000 requests. Which means this isn't a good option. I will proceed with cleaning the dataset for use."
   ]
  },
  {
   "cell_type": "code",
   "execution_count": 0,
   "metadata": {
    "application/vnd.databricks.v1+cell": {
     "cellMetadata": {
      "byteLimit": 2048000,
      "implicitDf": true,
      "rowLimit": 10000
     },
     "collapsed": true,
     "inputWidgets": {},
     "nuid": "059dd01e-649a-4320-84fe-6965c987605f",
     "showTitle": false,
     "tableResultSettingsMap": {},
     "title": ""
    }
   },
   "outputs": [],
   "source": [
    "%sql\n",
    "--- Get rid of null Titles right away in both tables -- \n",
    "create or replace table books_clean as\n",
    "select *\n",
    "from books_clean\n",
    "where Title is not null;"
   ]
  },
  {
   "cell_type": "code",
   "execution_count": 0,
   "metadata": {
    "application/vnd.databricks.v1+cell": {
     "cellMetadata": {
      "byteLimit": 2048000,
      "implicitDf": true,
      "rowLimit": 10000
     },
     "collapsed": true,
     "inputWidgets": {},
     "nuid": "b8773a12-4e68-4e79-9ddb-6c3e0f8ef4d0",
     "showTitle": false,
     "tableResultSettingsMap": {},
     "title": ""
    }
   },
   "outputs": [],
   "source": [
    "%sql\n",
    "create or replace table ratings_clean as\n",
    "select *\n",
    "from ratings_raw\n",
    "where Title is not null;"
   ]
  },
  {
   "cell_type": "markdown",
   "metadata": {
    "application/vnd.databricks.v1+cell": {
     "cellMetadata": {},
     "inputWidgets": {},
     "nuid": "3d32c6e9-10e5-4561-b9d9-da652bc85c8a",
     "showTitle": false,
     "tableResultSettingsMap": {},
     "title": ""
    }
   },
   "source": [
    "#### We'll append ratings.Id to books.Id as they appear to be 1 to 1 with each other. "
   ]
  },
  {
   "cell_type": "code",
   "execution_count": 0,
   "metadata": {
    "application/vnd.databricks.v1+cell": {
     "cellMetadata": {
      "byteLimit": 2048000,
      "implicitDf": true,
      "rowLimit": 10000
     },
     "inputWidgets": {},
     "nuid": "f5e9aa48-0fe5-4a9f-b8e5-f7da6e0d31a2",
     "showTitle": false,
     "tableResultSettingsMap": {},
     "title": ""
    }
   },
   "outputs": [],
   "source": [
    "%sql\n",
    "SELECT\n",
    "  COUNT(DISTINCT Id) AS distinct_ids,\n",
    "  COUNT(DISTINCT Title) AS distinct_titles\n",
    "FROM ratings_clean;"
   ]
  },
  {
   "cell_type": "markdown",
   "metadata": {
    "application/vnd.databricks.v1+cell": {
     "cellMetadata": {},
     "inputWidgets": {},
     "nuid": "0c360a74-a5f0-4ea6-9d35-3dd1fce97cea",
     "showTitle": false,
     "tableResultSettingsMap": {},
     "title": ""
    }
   },
   "source": [
    "#### I guess not :("
   ]
  },
  {
   "cell_type": "code",
   "execution_count": 0,
   "metadata": {
    "application/vnd.databricks.v1+cell": {
     "cellMetadata": {
      "byteLimit": 2048000,
      "implicitDf": true,
      "rowLimit": 10000
     },
     "collapsed": true,
     "inputWidgets": {},
     "nuid": "c2a8ed14-dddc-4509-a51e-40847a359264",
     "showTitle": false,
     "tableResultSettingsMap": {
      "0": {
       "dataGridStateBlob": "{\"version\":1,\"tableState\":{\"columnPinning\":{\"left\":[\"#row_number#\"],\"right\":[]},\"columnSizing\":{},\"columnVisibility\":{}},\"settings\":{\"columns\":{}},\"syncTimestamp\":1754201016493}",
       "filterBlob": null,
       "queryPlanFiltersBlob": null,
       "tableResultIndex": 0
      }
     },
     "title": ""
    }
   },
   "outputs": [],
   "source": [
    "%sql\n",
    "select Id, Title, count(Id) as id_count\n",
    "from ratings_clean\n",
    "group by Title, Id\n",
    "sort by Title;"
   ]
  },
  {
   "cell_type": "code",
   "execution_count": 0,
   "metadata": {
    "application/vnd.databricks.v1+cell": {
     "cellMetadata": {
      "byteLimit": 2048000,
      "implicitDf": true,
      "rowLimit": 10000
     },
     "collapsed": true,
     "inputWidgets": {},
     "nuid": "c8fd35d8-6006-4f97-be14-7885ea2eabfe",
     "showTitle": false,
     "tableResultSettingsMap": {
      "0": {
       "dataGridStateBlob": "{\"version\":1,\"tableState\":{\"columnPinning\":{\"left\":[\"#row_number#\"],\"right\":[]},\"columnSizing\":{\"Title\":726,\"Id\":158},\"columnVisibility\":{}},\"settings\":{\"columns\":{}},\"syncTimestamp\":1754199991065}",
       "filterBlob": null,
       "queryPlanFiltersBlob": null,
       "tableResultIndex": 0
      }
     },
     "title": ""
    }
   },
   "outputs": [],
   "source": [
    "%sql\n",
    "--- Titles with multiple Ids ---\n",
    "SELECT distinct Title, Id, count(Id) as id_count\n",
    "FROM ratings_clean\n",
    "WHERE Title IN (\n",
    "  SELECT Title\n",
    "  FROM ratings_clean\n",
    "  GROUP BY Title\n",
    "  HAVING COUNT(DISTINCT Id) > 1\n",
    ")\n",
    "group by Title, Id\n",
    "sort BY Title;\n"
   ]
  },
  {
   "cell_type": "code",
   "execution_count": 0,
   "metadata": {
    "application/vnd.databricks.v1+cell": {
     "cellMetadata": {
      "byteLimit": 2048000,
      "implicitDf": true,
      "rowLimit": 10000
     },
     "inputWidgets": {},
     "nuid": "e22960be-129e-440a-a4dc-801ad8c74510",
     "showTitle": false,
     "tableResultSettingsMap": {},
     "title": ""
    }
   },
   "outputs": [],
   "source": [
    "%sql\n",
    "select Id,Title\n",
    "from ratings_clean\n",
    "where Title = '\"The descendants of Capt. Thomas Carter of \"\"Barford\"\"';"
   ]
  },
  {
   "cell_type": "code",
   "execution_count": 0,
   "metadata": {
    "application/vnd.databricks.v1+cell": {
     "cellMetadata": {
      "byteLimit": 2048000,
      "implicitDf": true,
      "rowLimit": 10000
     },
     "collapsed": true,
     "inputWidgets": {},
     "nuid": "875dde03-f842-4040-baa9-2ff7ef135820",
     "showTitle": false,
     "tableResultSettingsMap": {},
     "title": ""
    }
   },
   "outputs": [],
   "source": [
    "%sql\n",
    "---Ids with multiple Titles ---\n",
    "SELECT distinct Id, Title\n",
    "from ratings_clean\n",
    "where Id in (\n",
    "  select Id\n",
    "  from ratings_clean\n",
    "  group by Id\n",
    "  HAVING count(distinct Title) > 1 \n",
    ")\n",
    "group by Id, Title\n",
    "sort by Id;\n"
   ]
  },
  {
   "cell_type": "markdown",
   "metadata": {
    "application/vnd.databricks.v1+cell": {
     "cellMetadata": {},
     "inputWidgets": {},
     "nuid": "62aa3e5d-0665-4925-b46a-09aaa8ddf8f4",
     "showTitle": false,
     "tableResultSettingsMap": {},
     "title": ""
    }
   },
   "source": [
    "#### It looks like in all cases Titles have multiple Ids whereas Ids only are associated with a single Title. Which is great! There does not appear to be any rhyme or reason to the Ids. I'll just replace all Ids for a Title with the one of the Ids associated with it. Doesn't really matter which one."
   ]
  },
  {
   "cell_type": "code",
   "execution_count": 0,
   "metadata": {
    "application/vnd.databricks.v1+cell": {
     "cellMetadata": {
      "byteLimit": 2048000,
      "rowLimit": 10000
     },
     "inputWidgets": {},
     "nuid": "bd64b933-0aa5-488b-a994-dab9541d19f7",
     "showTitle": false,
     "tableResultSettingsMap": {},
     "title": ""
    }
   },
   "outputs": [],
   "source": [
    "ratings_df = spark.read.table(\"ratings_clean\")\n",
    "ratings_df.show()"
   ]
  },
  {
   "cell_type": "code",
   "execution_count": 0,
   "metadata": {
    "application/vnd.databricks.v1+cell": {
     "cellMetadata": {
      "byteLimit": 2048000,
      "implicitDf": true,
      "rowLimit": 10000
     },
     "inputWidgets": {},
     "nuid": "d1b1f88f-89bd-4609-923f-c7153188ffa3",
     "showTitle": false,
     "tableResultSettingsMap": {},
     "title": ""
    }
   },
   "outputs": [],
   "source": [
    "\n",
    "\n",
    "# Retrieve first Id by Title\n",
    "first_id_by_title = ratings_df.groupBy(\"Title\").agg(F.first(\"Id\").alias(\"FirstId\"))\n",
    "\n",
    "# Join back first Ids with dataframe\n",
    "ratings_df_enriched = ratings_df.join(first_id_by_title, on=\"Title\", how=\"left\")\n",
    "\n",
    "# Replace Id with FirstId and drop extra col\n",
    "df_result = ratings_df_enriched.withColumn(\"Id\", F.col(\"FirstId\")).drop(\"FirstId\")\n",
    "\n"
   ]
  },
  {
   "cell_type": "code",
   "execution_count": 0,
   "metadata": {
    "application/vnd.databricks.v1+cell": {
     "cellMetadata": {
      "byteLimit": 2048000,
      "rowLimit": 10000
     },
     "inputWidgets": {},
     "nuid": "b31403a1-19de-443c-a8c7-eaa9e17cd478",
     "showTitle": false,
     "tableResultSettingsMap": {},
     "title": ""
    }
   },
   "outputs": [],
   "source": [
    "# Save new as table\n",
    "df_result.write.mode(\"overwrite\").option(\"overwriteSchema\", \"true\").saveAsTable(\"ratings_clean\")"
   ]
  },
  {
   "cell_type": "code",
   "execution_count": 0,
   "metadata": {
    "application/vnd.databricks.v1+cell": {
     "cellMetadata": {
      "byteLimit": 2048000,
      "implicitDf": true,
      "rowLimit": 10000
     },
     "collapsed": true,
     "inputWidgets": {},
     "nuid": "d489aebd-1954-4d6c-8741-2a08fa627ba8",
     "showTitle": false,
     "tableResultSettingsMap": {},
     "title": ""
    }
   },
   "outputs": [],
   "source": [
    "%sql\n",
    "--- Titles with multiple Ids ---\n",
    "SELECT distinct Title, Id, count(Id) as id_count\n",
    "FROM ratings_clean\n",
    "WHERE Title IN (\n",
    "  SELECT Title\n",
    "  FROM ratings_clean\n",
    "  GROUP BY Title\n",
    "  HAVING COUNT(DISTINCT Id) > 1\n",
    ")\n",
    "group by Title, Id\n",
    "sort BY Title;\n"
   ]
  },
  {
   "cell_type": "markdown",
   "metadata": {
    "application/vnd.databricks.v1+cell": {
     "cellMetadata": {
      "byteLimit": 2048000,
      "implicitDf": true,
      "rowLimit": 10000
     },
     "inputWidgets": {},
     "nuid": "82b9a44d-a642-420b-af43-82e121110f6c",
     "showTitle": false,
     "tableResultSettingsMap": {},
     "title": ""
    }
   },
   "source": [
    "#### Looks good! Now, to join with books and drop Id col from ratings_clean."
   ]
  },
  {
   "cell_type": "code",
   "execution_count": 0,
   "metadata": {
    "application/vnd.databricks.v1+cell": {
     "cellMetadata": {
      "byteLimit": 2048000,
      "rowLimit": 10000
     },
     "collapsed": true,
     "inputWidgets": {},
     "nuid": "c70292fe-6458-412a-a91f-4c8a08a07ee6",
     "showTitle": false,
     "tableResultSettingsMap": {},
     "title": ""
    }
   },
   "outputs": [],
   "source": [
    "book_df = spark.read.table(\"books_clean\")\n",
    "\n",
    "# Join back first Ids with dataframe\n",
    "books_with_id = book_df.join(\n",
    "    df_result.select(\"Title\", \"Id\").dropDuplicates([\"Title\"]), on=\"Title\", how=\"left\"\n",
    ")\n",
    "\n",
    "display(books_with_id)"
   ]
  },
  {
   "cell_type": "code",
   "execution_count": 0,
   "metadata": {
    "application/vnd.databricks.v1+cell": {
     "cellMetadata": {
      "byteLimit": 2048000,
      "rowLimit": 10000
     },
     "inputWidgets": {},
     "nuid": "67d2f72d-28b5-4277-893a-74cdf6f0cda2",
     "showTitle": false,
     "tableResultSettingsMap": {},
     "title": ""
    }
   },
   "outputs": [],
   "source": [
    "books_with_id.write.mode(\"overwrite\").option(\"overwriteSchema\", \"true\").saveAsTable(\"books_clean\")"
   ]
  },
  {
   "cell_type": "code",
   "execution_count": 0,
   "metadata": {
    "application/vnd.databricks.v1+cell": {
     "cellMetadata": {
      "byteLimit": 2048000,
      "rowLimit": 10000
     },
     "collapsed": true,
     "inputWidgets": {},
     "nuid": "866364ed-e2a6-41db-88d1-ea50916eb98e",
     "showTitle": false,
     "tableResultSettingsMap": {
      "0": {
       "dataGridStateBlob": "{\"version\":1,\"tableState\":{\"columnPinning\":{\"left\":[\"#row_number#\"],\"right\":[]},\"columnSizing\":{},\"columnVisibility\":{}},\"settings\":{\"columns\":{}},\"syncTimestamp\":1754454728360}",
       "filterBlob": null,
       "queryPlanFiltersBlob": null,
       "tableResultIndex": 0
      }
     },
     "title": ""
    }
   },
   "outputs": [],
   "source": [
    "ratings_df = spark.read.table('ratings_clean')\n",
    "ratings_df = ratings_df.drop('Title')\n",
    "ratings_df.write.mode(\"overwrite\").option(\"overwriteSchema\", \"true\").saveAsTable(\"ratings_clean\")"
   ]
  },
  {
   "cell_type": "markdown",
   "metadata": {
    "application/vnd.databricks.v1+cell": {
     "cellMetadata": {
      "byteLimit": 2048000,
      "rowLimit": 10000
     },
     "inputWidgets": {},
     "nuid": "e0fa6c3a-4f90-4e4d-8a61-68abcaff961c",
     "showTitle": false,
     "tableResultSettingsMap": {},
     "title": ""
    }
   },
   "source": [
    "#### I'll work on the Price column next. This I will add to the books table and drop from ratings."
   ]
  },
  {
   "cell_type": "code",
   "execution_count": 0,
   "metadata": {
    "application/vnd.databricks.v1+cell": {
     "cellMetadata": {
      "byteLimit": 2048000,
      "implicitDf": true,
      "rowLimit": 10000
     },
     "collapsed": true,
     "inputWidgets": {},
     "nuid": "3d3ce44f-bfb9-486e-bba2-697bb78138be",
     "showTitle": false,
     "tableResultSettingsMap": {},
     "title": ""
    }
   },
   "outputs": [],
   "source": [
    "%sql\n",
    "--- Verify each Id only has a single Price associated with it ---\n",
    "select Id, COUNT(DISTINCT Price) as price_count\n",
    "from ratings_clean\n",
    "group by Id\n",
    "having count(distinct price) > 1"
   ]
  },
  {
   "cell_type": "code",
   "execution_count": 0,
   "metadata": {
    "application/vnd.databricks.v1+cell": {
     "cellMetadata": {
      "byteLimit": 2048000,
      "implicitDf": true,
      "rowLimit": 10000
     },
     "collapsed": true,
     "inputWidgets": {},
     "nuid": "3acd7af4-28b0-467e-97e8-f2b9b0bdda5a",
     "showTitle": false,
     "tableResultSettingsMap": {
      "0": {
       "dataGridStateBlob": "{\"version\":1,\"tableState\":{\"columnPinning\":{\"left\":[\"#row_number#\"],\"right\":[]},\"columnSizing\":{\"Price\":96},\"columnVisibility\":{}},\"settings\":{\"columns\":{}},\"syncTimestamp\":1754267136970}",
       "filterBlob": null,
       "queryPlanFiltersBlob": null,
       "tableResultIndex": 0
      }
     },
     "title": ""
    }
   },
   "outputs": [],
   "source": [
    "%sql\n",
    "select distinct Id, Title, Price\n",
    "from ratings_clean\n",
    "where Id in (\n",
    "  select Id\n",
    "  from ratings_clean\n",
    "  group by Id\n",
    "  having count(distinct Price) > 1\n",
    ") and Price is not null\n",
    "sort by Title;"
   ]
  },
  {
   "cell_type": "code",
   "execution_count": 0,
   "metadata": {
    "application/vnd.databricks.v1+cell": {
     "cellMetadata": {
      "byteLimit": 2048000,
      "implicitDf": true,
      "rowLimit": 10000
     },
     "collapsed": true,
     "inputWidgets": {},
     "nuid": "ce0dca5e-c2a9-41c4-893e-20fd71f66ed0",
     "showTitle": false,
     "tableResultSettingsMap": {},
     "title": ""
    }
   },
   "outputs": [],
   "source": [
    "%sql\n",
    "--- count nulls ---\n",
    "select count(*)\n",
    "from ratings_clean\n",
    "where Price is null"
   ]
  },
  {
   "cell_type": "markdown",
   "metadata": {
    "application/vnd.databricks.v1+cell": {
     "cellMetadata": {},
     "inputWidgets": {},
     "nuid": "1ba80abb-df97-445c-8704-5a6d59cf5cec",
     "showTitle": false,
     "tableResultSettingsMap": {},
     "title": ""
    }
   },
   "source": [
    "#### Lots of null prices or the row is malformed and has text. I will drop the malformed rows and corresponding rows in the books table. For duplicates, I will again select the first Price associated with a Title and replicate it for all rows. Null Prices for a title will be replaced from a random value from the range of distinct Prices."
   ]
  },
  {
   "cell_type": "code",
   "execution_count": 0,
   "metadata": {
    "application/vnd.databricks.v1+cell": {
     "cellMetadata": {
      "byteLimit": 2048000,
      "rowLimit": 10000
     },
     "inputWidgets": {},
     "nuid": "e10c2355-bb11-4450-aa15-38f3f6308de8",
     "showTitle": false,
     "tableResultSettingsMap": {},
     "title": ""
    }
   },
   "outputs": [],
   "source": [
    "ratings_df = spark.read.table(\"ratings_clean\")"
   ]
  },
  {
   "cell_type": "markdown",
   "metadata": {
    "application/vnd.databricks.v1+cell": {
     "cellMetadata": {},
     "inputWidgets": {},
     "nuid": "8399dbb3-02d2-433a-bd15-99648ccc4302",
     "showTitle": false,
     "tableResultSettingsMap": {},
     "title": ""
    }
   },
   "source": [
    "#### For Ids that have multiple Prices, I am going to select the highest Price and replace all Prices corresponding to the same Id with that value"
   ]
  },
  {
   "cell_type": "code",
   "execution_count": 0,
   "metadata": {
    "application/vnd.databricks.v1+cell": {
     "cellMetadata": {
      "byteLimit": 2048000,
      "rowLimit": 10000
     },
     "inputWidgets": {},
     "nuid": "0470ff65-367b-4ff9-8915-8cf6ea2d9869",
     "showTitle": false,
     "tableResultSettingsMap": {},
     "title": ""
    }
   },
   "outputs": [],
   "source": [
    "# Selecting all Ids with a numerical Price\n",
    "digits = ratings_df.select(\"Id\", \"Price\").where(\"Price rlike '^[0-9]+(\\.[0-9]+)?$'\")\n",
    "print(f\"Total rows with numerical Prices: {digits.count()}\")\n",
    "display(digits.sort(\"Price\", ascending = True))\n"
   ]
  },
  {
   "cell_type": "code",
   "execution_count": 0,
   "metadata": {
    "application/vnd.databricks.v1+cell": {
     "cellMetadata": {
      "byteLimit": 2048000,
      "rowLimit": 10000
     },
     "inputWidgets": {},
     "nuid": "0b4205db-6f1e-403e-8bad-546ca6250a51",
     "showTitle": false,
     "tableResultSettingsMap": {},
     "title": ""
    }
   },
   "outputs": [],
   "source": [
    "# Need distinct prices to replace null Prices\n",
    "distinct_prices = digits.select(\"Price\").distinct()\n",
    "print(f\"Total Distinct Prices: {distinct_prices.count()}\")\n",
    "display(distinct_prices.sort(\"Price\", ascending = True))"
   ]
  },
  {
   "cell_type": "code",
   "execution_count": 0,
   "metadata": {
    "application/vnd.databricks.v1+cell": {
     "cellMetadata": {
      "byteLimit": 2048000,
      "rowLimit": 10000
     },
     "inputWidgets": {},
     "nuid": "8ddbfcdf-86bd-4197-96d1-29c87685c124",
     "showTitle": false,
     "tableResultSettingsMap": {
      "0": {
       "dataGridStateBlob": "{\"version\":1,\"tableState\":{\"columnPinning\":{\"left\":[\"#row_number#\"],\"right\":[]},\"columnSizing\":{},\"columnVisibility\":{}},\"settings\":{\"columns\":{}},\"syncTimestamp\":1754806896524}",
       "filterBlob": null,
       "queryPlanFiltersBlob": null,
       "tableResultIndex": 0
      }
     },
     "title": ""
    }
   },
   "outputs": [],
   "source": [
    "max_prices = digits.groupBy(\"Id\") \\\n",
    "    .agg(F.max(\"Price\").alias(\"max_price\"))\n",
    "\n",
    "display(max_prices)"
   ]
  },
  {
   "cell_type": "code",
   "execution_count": 0,
   "metadata": {
    "application/vnd.databricks.v1+cell": {
     "cellMetadata": {
      "byteLimit": 2048000,
      "rowLimit": 10000
     },
     "inputWidgets": {},
     "nuid": "e2efa1f9-dc45-483d-bd95-1a415523672d",
     "showTitle": false,
     "tableResultSettingsMap": {
      "0": {
       "dataGridStateBlob": "{\"version\":1,\"tableState\":{\"columnPinning\":{\"left\":[\"#row_number#\"],\"right\":[]},\"columnSizing\":{},\"columnVisibility\":{}},\"settings\":{\"columns\":{}},\"syncTimestamp\":1754808369806}",
       "filterBlob": null,
       "queryPlanFiltersBlob": null,
       "tableResultIndex": 0
      }
     },
     "title": ""
    }
   },
   "outputs": [],
   "source": [
    "# Replace Prices in ratings with their highest price and replace all non-numeric values with null\n",
    "ratings_digits_cleaned = ratings_df.drop(\"Price\") \\\n",
    "    .join(max_prices, on=\"Id\", how=\"left\").withColumnRenamed(\"max_price\", \"Price\")\n",
    "\n",
    "print(ratings_digits_cleaned.count())\n",
    "\n",
    "display(ratings_digits_cleaned.limit(10))"
   ]
  },
  {
   "cell_type": "code",
   "execution_count": 0,
   "metadata": {
    "application/vnd.databricks.v1+cell": {
     "cellMetadata": {
      "byteLimit": 2048000,
      "rowLimit": 10000
     },
     "inputWidgets": {},
     "nuid": "75acd855-abb6-4b8c-b6a3-716c9622f38f",
     "showTitle": false,
     "tableResultSettingsMap": {},
     "title": ""
    }
   },
   "outputs": [],
   "source": [
    "null_prices = ratings_digits_cleaned.select(\"Id\").where(\"Price is null\").dropDuplicates([\"Id\"])\n",
    "print(null_prices.count())\n",
    "display(null_prices.limit(10))"
   ]
  },
  {
   "cell_type": "code",
   "execution_count": 0,
   "metadata": {
    "application/vnd.databricks.v1+cell": {
     "cellMetadata": {
      "byteLimit": 2048000,
      "rowLimit": 10000
     },
     "inputWidgets": {},
     "nuid": "c0c5e2ea-b214-48b7-93c9-7110a0443dfe",
     "showTitle": false,
     "tableResultSettingsMap": {},
     "title": ""
    }
   },
   "outputs": [],
   "source": []
  },
  {
   "cell_type": "markdown",
   "metadata": {
    "application/vnd.databricks.v1+cell": {
     "cellMetadata": {
      "byteLimit": 2048000,
      "rowLimit": 10000
     },
     "inputWidgets": {},
     "nuid": "ef461189-e89a-4455-96f8-eea0d00747c2",
     "showTitle": false,
     "tableResultSettingsMap": {},
     "title": ""
    }
   },
   "source": [
    "# HERE I have a frame of Ids with null prices after replacing non numeric prices with null. Need to append values from distinct prices."
   ]
  },
  {
   "cell_type": "code",
   "execution_count": 0,
   "metadata": {
    "application/vnd.databricks.v1+cell": {
     "cellMetadata": {
      "byteLimit": 2048000,
      "rowLimit": 10000
     },
     "inputWidgets": {},
     "nuid": "cdb17075-ad11-4814-8196-4c3ce4415203",
     "showTitle": false,
     "tableResultSettingsMap": {
      "0": {
       "dataGridStateBlob": "{\"version\":1,\"tableState\":{\"columnPinning\":{\"left\":[\"#row_number#\"],\"right\":[]},\"columnSizing\":{},\"columnVisibility\":{}},\"settings\":{\"columns\":{}},\"syncTimestamp\":1754858668322}",
       "filterBlob": null,
       "queryPlanFiltersBlob": null,
       "tableResultIndex": 0
      }
     },
     "title": ""
    }
   },
   "outputs": [],
   "source": [
    "from pyspark.sql import Window as W\n",
    "\n",
    "prices_indexed = distinct_prices.withColumn(\n",
    "    \"idx\",\n",
    "    F.row_number().over(W.orderBy(\"Price\"))\n",
    ")\n",
    "\n",
    "N = prices_indexed.count()\n",
    "\n",
    "seed = 69\n",
    "id_price_map = (\n",
    "    null_prices\n",
    "    .withColumn(\"rand_idx\", (F.floor(F.rand(seed) * F.lit(N)) + 1).cast(\"int\"))\n",
    "    .join(F.broadcast(prices_indexed), F.col(\"rand_idx\") == F.col(\"idx\"), \"left\")\n",
    "    .select(\"Id\", F.col(\"Price\").alias(\"Price_new\"))\n",
    ")\n",
    "\n",
    "display(id_price_map)\n"
   ]
  },
  {
   "cell_type": "code",
   "execution_count": 0,
   "metadata": {
    "application/vnd.databricks.v1+cell": {
     "cellMetadata": {
      "byteLimit": 2048000,
      "rowLimit": 10000
     },
     "inputWidgets": {},
     "nuid": "0139c2ba-85bd-439f-addb-f5b686f23553",
     "showTitle": false,
     "tableResultSettingsMap": {
      "0": {
       "dataGridStateBlob": "{\"version\":1,\"tableState\":{\"columnPinning\":{\"left\":[\"#row_number#\"],\"right\":[]},\"columnSizing\":{\"Id\":206},\"columnVisibility\":{}},\"settings\":{\"columns\":{}},\"syncTimestamp\":1754858941523}",
       "filterBlob": null,
       "queryPlanFiltersBlob": null,
       "tableResultIndex": 0
      }
     },
     "title": ""
    }
   },
   "outputs": [],
   "source": [
    "# Replace all null prices in ratings frame with random prices from distinct_prices\n",
    "ratings_cleaned = (\n",
    "    ratings_digits_cleaned.alias(\"rc\")\n",
    "    .join(F.broadcast(id_price_map).alias(\"map\"), on=\"Id\", how=\"left\")\n",
    "    .withColumn(\"Price\", F.coalesce(F.col(\"rc.Price\"), F.col(\"map.Price_new\")))\n",
    "    .drop(\"Price_new\")\n",
    ")\n",
    "\n",
    "display(ratings_cleaned)"
   ]
  },
  {
   "cell_type": "markdown",
   "metadata": {
    "application/vnd.databricks.v1+cell": {
     "cellMetadata": {
      "byteLimit": 2048000,
      "rowLimit": 10000
     },
     "inputWidgets": {},
     "nuid": "e8976b13-55e6-4a4f-add1-de41186a73e1",
     "showTitle": false,
     "tableResultSettingsMap": {},
     "title": ""
    }
   },
   "source": [
    "# Here. I have a ratings frame with cleaned Prices. Now i need to add prices to books and drop it from ratings. I'll drop unnecessary columns from ratings and turn it into transactions."
   ]
  },
  {
   "cell_type": "code",
   "execution_count": 0,
   "metadata": {
    "application/vnd.databricks.v1+cell": {
     "cellMetadata": {
      "byteLimit": 2048000,
      "implicitDf": true,
      "rowLimit": 10000
     },
     "inputWidgets": {},
     "nuid": "eecb0296-d9aa-4321-a3d1-3f03485af993",
     "showTitle": false,
     "tableResultSettingsMap": {
      "0": {
       "dataGridStateBlob": "{\"version\":1,\"tableState\":{\"columnPinning\":{\"left\":[\"#row_number#\"],\"right\":[]},\"columnSizing\":{},\"columnVisibility\":{}},\"settings\":{\"columns\":{}},\"syncTimestamp\":1753668746181}",
       "filterBlob": null,
       "queryPlanFiltersBlob": null,
       "tableResultIndex": 0
      }
     },
     "title": ""
    }
   },
   "outputs": [],
   "source": []
  },
  {
   "cell_type": "markdown",
   "metadata": {
    "application/vnd.databricks.v1+cell": {
     "cellMetadata": {},
     "inputWidgets": {},
     "nuid": "8ff3b173-721d-45ac-9875-79123732c840",
     "showTitle": false,
     "tableResultSettingsMap": {},
     "title": ""
    }
   },
   "source": [
    "# Preparing the cleaned datasets for the dashboard."
   ]
  },
  {
   "cell_type": "markdown",
   "metadata": {
    "application/vnd.databricks.v1+cell": {
     "cellMetadata": {},
     "inputWidgets": {},
     "nuid": "d27f574f-89ea-4da9-bb4b-1f9abfbeb01a",
     "showTitle": false,
     "tableResultSettingsMap": {},
     "title": ""
    }
   },
   "source": [
    "We'll check the distribution of the the number of ratings per book of the cleaned dataset."
   ]
  },
  {
   "cell_type": "code",
   "execution_count": 0,
   "metadata": {
    "application/vnd.databricks.v1+cell": {
     "cellMetadata": {},
     "inputWidgets": {},
     "nuid": "3d6105cb-47f0-4372-8159-abe647ba0d4f",
     "showTitle": false,
     "tableResultSettingsMap": {},
     "title": ""
    }
   },
   "outputs": [],
   "source": []
  }
 ],
 "metadata": {
  "application/vnd.databricks.v1+notebook": {
   "computePreferences": null,
   "dashboards": [],
   "environmentMetadata": {
    "base_environment": "",
    "environment_version": "2"
   },
   "inputWidgetPreferences": null,
   "language": "python",
   "notebookMetadata": {
    "mostRecentlyExecutedCommandWithImplicitDF": {
     "commandId": 4793158511033221,
     "dataframes": [
      "_sqldf"
     ]
    },
    "pythonIndentUnit": 4
   },
   "notebookName": "Data Exploration",
   "widgets": {}
  },
  "language_info": {
   "name": "python"
  }
 },
 "nbformat": 4,
 "nbformat_minor": 0
}
